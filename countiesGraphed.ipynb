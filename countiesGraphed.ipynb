{
 "cells": [
  {
   "cell_type": "markdown",
   "metadata": {},
   "source": [
    "# Each County Graphed by State"
   ]
  },
  {
   "cell_type": "markdown",
   "metadata": {},
   "source": [
    "#### Import Libraries"
   ]
  },
  {
   "cell_type": "code",
   "execution_count": 1,
   "metadata": {},
   "outputs": [],
   "source": [
    "import pandas as pd\n",
    "from datetime import datetime\n",
    "import random\n",
    "from bokeh.plotting import figure\n",
    "from bokeh.layouts import row\n",
    "from bokeh.models import LinearAxis, Range1d, HoverTool, CustomJS\n",
    "from bokeh.models.widgets import CheckboxGroup\n",
    "from bokeh.io import output_file, show\n",
    "from bokeh.resources import CDN\n",
    "from bokeh.embed import file_html"
   ]
  },
  {
   "cell_type": "markdown",
   "metadata": {},
   "source": [
    "#### Read in .csv file and store in DataFrame"
   ]
  },
  {
   "cell_type": "code",
   "execution_count": 2,
   "metadata": {},
   "outputs": [],
   "source": [
    "file = \"us-counties.csv\"\n",
    "df = pd.read_csv(file)\n",
    "df = df.drop(columns='fips')"
   ]
  },
  {
   "cell_type": "markdown",
   "metadata": {},
   "source": [
    "#### Get colors from colors.txt"
   ]
  },
  {
   "cell_type": "code",
   "execution_count": 3,
   "metadata": {},
   "outputs": [],
   "source": [
    "colorList = []\n",
    "colorlist = open(\"colors.txt\",\"r\")\n",
    "for color in colorlist:\n",
    "    colorList.append(color)\n",
    "colorlist.close()"
   ]
  },
  {
   "cell_type": "markdown",
   "metadata": {},
   "source": [
    "#### Graph each county by state"
   ]
  },
  {
   "cell_type": "code",
   "execution_count": 4,
   "metadata": {},
   "outputs": [],
   "source": [
    "for num,state in enumerate(sorted(df['state'].unique())):\n",
    "    \n",
    "    plot_Cases = []\n",
    "    plot_Deaths = []\n",
    "    \n",
    "    stateDF = df[df['state'] == state]\n",
    "    \n",
    "    #Figure graph\n",
    "    plotWidth = 1000\n",
    "    plotHeight = 500\n",
    "    startRange = 0\n",
    "    endRange = int(stateDF['cases'].max()*.8)\n",
    "    graphs = figure(title = state, x_axis_label='DATE', y_axis_label='CONFIRMED CASES OF COVID-19', x_axis_type='datetime',y_range=(startRange,endRange),tools='pan,box_zoom,zoom_in,zoom_out,reset,save',plot_width=plotWidth, plot_height=plotHeight)    \n",
    "    graphs.extra_y_ranges = {\"plot\": Range1d(start=startRange, end=endRange)}\n",
    "    graphs.add_layout(LinearAxis(y_range_name=\"plot\", axis_label='DECEASED FROM COVID-19'), 'right')\n",
    "    graphs.left[0].formatter.use_scientific = False\n",
    "    graphs.right[0].formatter.use_scientific = False\n",
    "    graphs.add_tools(HoverTool(tooltips=[(\"\", \"$name\"),(\"\",\"$x{%F}: $y{int}\")],formatters = {\"$x\": \"datetime\"},mode='mouse',toggleable=False)) \n",
    "\n",
    "\n",
    "    for county in sorted(stateDF['county'].unique()):\n",
    "        countyDF = stateDF[stateDF['county'] == county]\n",
    "                \n",
    "        dates = pd.to_datetime(countyDF['date'], format='%Y-%m-%d')\n",
    "        cases = countyDF['cases']\n",
    "        deaths = countyDF['deaths']\n",
    "\n",
    "        color = random.choice(colorList)\n",
    "        color = color.strip('\\n')\n",
    "\n",
    "        plot_Cases.append(graphs.line(dates,cases,line_width=2,line_color=color,name=county,legend_label=\"Confirmed\"))\n",
    "        plot_Deaths.append(graphs.line(dates,deaths,line_width=2,line_dash='dashed',line_color=color,name=county, y_range_name=\"plot\",legend_label=\"Deceased\"))\n",
    "\n",
    "        \n",
    "    #Finish figuring graph\n",
    "    graphs.legend.location = 'top_left'\n",
    "    checkboxes = CheckboxGroup(labels=sorted(stateDF['county'].unique()))\n",
    "    \n",
    "    #Linking with JavaScript\n",
    "    callback = CustomJS(code=\"\"\"\n",
    "                                var i;\n",
    "                                for (i = 0; i < %i; i++)\n",
    "                                {\n",
    "                                    if (cb_obj.active.includes(i))\n",
    "                                    {\n",
    "                                        lineC[i].visible = true;\n",
    "                                        lineD[i].visible = true;\n",
    "                                    }\n",
    "                                    else\n",
    "                                    {\n",
    "                                        lineC[i].visible = false;\n",
    "                                        lineD[i].visible = false;\n",
    "                                    }\n",
    "                                }\n",
    "                                \"\"\" % len(stateDF['county'].unique()),\n",
    "                        args={'lineC': plot_Cases, 'lineD': plot_Deaths})\n",
    "\n",
    "    checkboxes.js_on_click(callback)\n",
    "\n",
    "\n",
    "    \n",
    "    #Show Graph\n",
    "    output_file(f\"{state}CountiesGraph.html\")\n",
    "    show(row(graphs,checkboxes))\n",
    "\n",
    "    #Store as html\n",
    "    # html = file_html(row(graphs,checkboxes), CDN, \"US States\")\n",
    "    # fa = open(\"stateGraphs.txt\",\"w\")\n",
    "    # fa.write(html)\n",
    "    # fa.close()\n",
    "    \n",
    "    #Break after 5\n",
    "    if num == 4:\n",
    "        break"
   ]
  }
 ],
 "metadata": {
  "kernelspec": {
   "display_name": "Python 3",
   "language": "python",
   "name": "python3"
  },
  "language_info": {
   "codemirror_mode": {
    "name": "ipython",
    "version": 3
   },
   "file_extension": ".py",
   "mimetype": "text/x-python",
   "name": "python",
   "nbconvert_exporter": "python",
   "pygments_lexer": "ipython3",
   "version": "3.8.5"
  }
 },
 "nbformat": 4,
 "nbformat_minor": 4
}
