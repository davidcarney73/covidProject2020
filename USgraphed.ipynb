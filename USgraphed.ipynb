{
 "cells": [
  {
   "cell_type": "markdown",
   "metadata": {},
   "source": [
    "# The United States Graphed"
   ]
  },
  {
   "cell_type": "markdown",
   "metadata": {},
   "source": [
    "#### Import Libraries"
   ]
  },
  {
   "cell_type": "code",
   "execution_count": 1,
   "metadata": {},
   "outputs": [],
   "source": [
    "import pandas as pd\n",
    "from datetime import datetime\n",
    "import random\n",
    "from bokeh.plotting import figure\n",
    "from bokeh.layouts import row\n",
    "from bokeh.models import LinearAxis, Range1d, HoverTool, CustomJS\n",
    "from bokeh.models.widgets import CheckboxGroup\n",
    "from bokeh.io import output_file, show\n",
    "from bokeh.resources import CDN\n",
    "from bokeh.embed import file_html"
   ]
  },
  {
   "cell_type": "markdown",
   "metadata": {},
   "source": [
    "#### Read in .csv file and store in DataFrame"
   ]
  },
  {
   "cell_type": "code",
   "execution_count": 2,
   "metadata": {},
   "outputs": [],
   "source": [
    "file = \"us-counties.csv\"\n",
    "df = pd.read_csv(file)\n",
    "df = df.drop(columns=['county','state','fips'])\n",
    "df = df.groupby('date', as_index=False).sum()"
   ]
  },
  {
   "cell_type": "markdown",
   "metadata": {},
   "source": [
    "#### Get colors from colors.txt"
   ]
  },
  {
   "cell_type": "code",
   "execution_count": 3,
   "metadata": {},
   "outputs": [],
   "source": [
    "colorList = []\n",
    "colorlist = open(\"colors.txt\",\"r\")\n",
    "for color in colorlist:\n",
    "    colorList.append(color)\n",
    "colorlist.close()"
   ]
  },
  {
   "cell_type": "markdown",
   "metadata": {},
   "source": [
    "#### Figure Graph"
   ]
  },
  {
   "cell_type": "code",
   "execution_count": 4,
   "metadata": {},
   "outputs": [],
   "source": [
    "plotWidth = 1000\n",
    "plotHeight = 500\n",
    "startRange = 0\n",
    "endRange = int(df['cases'].max()*1.05)\n",
    "graphs = figure(title = \"United States\", x_axis_label='DATE', y_axis_label='CONFIRMED CASES OF COVID-19', x_axis_type='datetime',y_range=(startRange,endRange),tools='pan,box_zoom,zoom_in,zoom_out,reset,save',plot_width=plotWidth, plot_height=plotHeight)\n",
    "graphs.extra_y_ranges = {\"plot\": Range1d(start=startRange, end=endRange)}\n",
    "graphs.add_layout(LinearAxis(y_range_name=\"plot\", axis_label='DECEASED FROM COVID-19'), 'right')\n",
    "graphs.sizing_mode = 'stretch_both'\n",
    "graphs.left[0].formatter.use_scientific = False\n",
    "graphs.right[0].formatter.use_scientific = False\n",
    "graphs.add_tools(HoverTool(tooltips=[(\"\", \"$name\"),(\"\",\"$x{%F}: $y{int}\")],formatters = {\"$x\": \"datetime\"},mode='mouse',toggleable=False)) "
   ]
  },
  {
   "cell_type": "markdown",
   "metadata": {},
   "source": [
    "#### Graph US"
   ]
  },
  {
   "cell_type": "code",
   "execution_count": 5,
   "metadata": {},
   "outputs": [],
   "source": [
    "dates = pd.to_datetime(df['date'], format='%Y-%m-%d')\n",
    "cases = df['cases']\n",
    "deaths = df['deaths']    \n",
    "\n",
    "plot_Cases = (graphs.line(dates,cases,line_width=2,name='Confirmed',legend_label=\"Confirmed\"))\n",
    "plot_Deaths = (graphs.line(dates,deaths,line_width=2,line_dash='dashed',name='Deceased', y_range_name=\"plot\",legend_label=\"Deceased\"))\n",
    "\n",
    "#Finish figuring graph\n",
    "graphs.legend.location = 'top_left'\n",
    "\n",
    "#Show Graph\n",
    "output_file(\"USGraph.html\")\n",
    "show(graphs)\n",
    "\n",
    "#Store as html\n",
    "# html = file_html(row(graphs,checkboxes), CDN, \"US States\")\n",
    "# fa = open(\"USGraph.txt\",\"w\")\n",
    "# fa.write(html)\n",
    "# fa.close()"
   ]
  }
 ],
 "metadata": {
  "kernelspec": {
   "display_name": "Python 3",
   "language": "python",
   "name": "python3"
  },
  "language_info": {
   "codemirror_mode": {
    "name": "ipython",
    "version": 3
   },
   "file_extension": ".py",
   "mimetype": "text/x-python",
   "name": "python",
   "nbconvert_exporter": "python",
   "pygments_lexer": "ipython3",
   "version": "3.8.5"
  }
 },
 "nbformat": 4,
 "nbformat_minor": 4
}
